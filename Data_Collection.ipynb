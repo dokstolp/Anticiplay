{
 "cells": [
  {
   "cell_type": "code",
   "execution_count": 1,
   "metadata": {
    "ExecuteTime": {
     "end_time": "2017-08-17T22:53:28.650269Z",
     "start_time": "2017-08-17T15:53:27.260140-07:00"
    },
    "collapsed": true,
    "deletable": true,
    "editable": true
   },
   "outputs": [],
   "source": [
    "import nflgame\n",
    "import pandas as pd\n",
    "from __future__ import absolute_import, division, print_function"
   ]
  },
  {
   "cell_type": "code",
   "execution_count": 2,
   "metadata": {
    "ExecuteTime": {
     "end_time": "2017-08-17T22:53:29.580790Z",
     "start_time": "2017-08-17T15:53:29.576143-07:00"
    },
    "collapsed": true,
    "deletable": true,
    "editable": true
   },
   "outputs": [],
   "source": [
    "def adjust_team(teamname):\n",
    "    retval = teamname\n",
    "    if teamname=='STL':\n",
    "        retval = 'LA'\n",
    "    return retval"
   ]
  },
  {
   "cell_type": "code",
   "execution_count": 3,
   "metadata": {
    "ExecuteTime": {
     "end_time": "2017-08-17T22:53:30.736276Z",
     "start_time": "2017-08-17T15:53:30.721707-07:00"
    },
    "collapsed": true,
    "deletable": true,
    "editable": true
   },
   "outputs": [],
   "source": [
    "def weekly(g,chosen):\n",
    "    rushAtt=0\n",
    "    rushYds=0\n",
    "    passAtt=0\n",
    "    passCmp=0\n",
    "    passYds=0\n",
    "    rushTds=0\n",
    "    passTds=0 \n",
    "    for player in g.players.rushing():\n",
    "        team = adjust_team(player.team)\n",
    "        if team==chosen:\n",
    "            rushAtt+=player.rushing_att\n",
    "            rushYds+=player.rushing_yds\n",
    "            rushTds+=player.rushing_tds\n",
    "    for player in g.players.passing():\n",
    "        team = adjust_team(player.team)\n",
    "        if team==chosen:\n",
    "            passAtt+=player.passing_att\n",
    "            passYds+=player.passing_yds\n",
    "            passTds+=player.passing_tds\n",
    "            passCmp+=player.passing_cmp\n",
    "    return [rushAtt,rushYds,\n",
    "            rushTds,passAtt,\n",
    "            passCmp,passYds,\n",
    "            passTds]"
   ]
  },
  {
   "cell_type": "code",
   "execution_count": 4,
   "metadata": {
    "ExecuteTime": {
     "end_time": "2017-08-17T22:53:31.608414Z",
     "start_time": "2017-08-17T15:53:31.596853-07:00"
    },
    "collapsed": true,
    "deletable": true,
    "editable": true
   },
   "outputs": [],
   "source": [
    "def set_scores(g):\n",
    "    teams = [g.home,g.away]\n",
    "    for t in range(0,len(teams)):\n",
    "        if teams[t]=='STL':\n",
    "            teams[t]='LA'\n",
    "    score_ind = {teams[0]:[g.score_home_q1,g.score_home_q2,g.score_home_q3,g.score_home_q4]\n",
    "             ,teams[1]:[g.score_away_q1,g.score_away_q2,g.score_away_q3,g.score_away_q4]}\n",
    "    score_qum = {teams[0]:[0,0,0,0],teams[1]:[0,0,0,0]}\n",
    "    for t in teams:\n",
    "        for q in range(1,4):\n",
    "            score_qum[t][q] = score_qum[t][q-1]+score_ind[t][q-1]\n",
    "    score = {teams[0]:0,teams[1]:0}\n",
    "    return teams,score,score_qum"
   ]
  },
  {
   "cell_type": "code",
   "execution_count": 5,
   "metadata": {
    "ExecuteTime": {
     "end_time": "2017-08-17T22:53:32.642691Z",
     "start_time": "2017-08-17T15:53:32.466569-07:00"
    },
    "collapsed": true,
    "deletable": true,
    "editable": true
   },
   "outputs": [],
   "source": [
    "class PlayParser:\n",
    "    def __init__(self,raw_play_int,teams):\n",
    "        raw_play=str(raw_play_int)\n",
    "        limit = raw_play.find(')')\n",
    "        self.first = raw_play[1:limit].split(',')\n",
    "        play = raw_play[limit+1:]\n",
    "        self.second = play[2:play.find(')')]\n",
    "        self.play = str(play)\n",
    "        self.teams = teams\n",
    "        self.raw_play = raw_play\n",
    "        self.isnull=False\n",
    "        if (len(self.first)!=4 \n",
    "            or self.second.replace(':','').isdigit() is False \n",
    "            or int(self.first[2].replace('Q','')) > 4\n",
    "            or 'field goal' in self.play\n",
    "            or 'punt' in self.play\n",
    "            or 'No Play' in self.play):\n",
    "            self.isnull = True\n",
    "    def is_null(self):\n",
    "        return self.isnull\n",
    "    def down(self):\n",
    "        return [int(x) for x in self.first[3].split(' and ')][0]\n",
    "    def distance(self):\n",
    "        return [int(x) for x in self.first[3].split(' and ')][1]\n",
    "    def offense(self):\n",
    "        offense = self.first[0]\n",
    "        if offense=='STL':\n",
    "            offense = 'LA'\n",
    "        return offense\n",
    "    def defense(self):\n",
    "        offense = self.first[0]\n",
    "        if offense=='STL':\n",
    "            offense = 'LA'\n",
    "        defense = teams[1-self.teams.index(offense)]\n",
    "        if defense=='STL':\n",
    "            defense = 'LA'\n",
    "        return defense\n",
    "    def get_score(self,score,squm,pquarter):\n",
    "        quarter = int(self.first[2].replace('Q',''))\n",
    "        if pquarter != quarter:\n",
    "            for t in self.teams:\n",
    "                score[t] = squm[t][quarter-1]\n",
    "        self.score = score\n",
    "        return score\n",
    "    def offense_score(self):    \n",
    "        return self.score[self.offense()]\n",
    "    def defense_score(self):\n",
    "        return self.score[self.defense()]\n",
    "    def is_pass(self):\n",
    "        return ('pass' in self.play or 'sacked' in self.play)*1\n",
    "    def play_points(self):\n",
    "        if 'TOUCHDOWN' in self.play:\n",
    "            return 6\n",
    "        if 'field goal' in self.play and 'GOOD' in self.play:\n",
    "            return 3\n",
    "        if 'extra point' in self.play and 'GOOD' in self.play:\n",
    "            return 1\n",
    "        if('CONVERSION ATTEMPT' in self.play\n",
    "               and 'SUCCEEDS' in self.play):\n",
    "            return 2\n",
    "        return 0\n",
    "    def resulting_yards(self):\n",
    "        yards = self.play[self.play.find('for ')+4:self.play.find(' yard')]\n",
    "        try:\n",
    "            retval = int(yards)\n",
    "        except:\n",
    "            retval = 0\n",
    "        return retval\n",
    "    def quarter(self):\n",
    "        return int(self.first[2].replace('Q',''))\n",
    "    def time_in_half(self):\n",
    "        time_already = ((4-int(self.first[2].replace('Q','')))%2)*900\n",
    "        time = self.second\n",
    "        if len(self.second)<4:\n",
    "            time = '0'+self.second\n",
    "        temp = [int(x) for x in time.split(':')]\n",
    "        return time_already + temp[0]*60+temp[1]  \n",
    "    def yards_to_goal(self):\n",
    "        poss_team = self.first[0]\n",
    "        temp = self.first[1][1:].split(' ')\n",
    "        if len(temp)==1:\n",
    "            return 50\n",
    "        else:\n",
    "            half = temp[0]\n",
    "            los = int(temp[1])\n",
    "        if(poss_team==half):\n",
    "            return 100-los\n",
    "        else:\n",
    "            return los\n",
    "    def is_penalty(self):\n",
    "        return ('PENALTY' in self.play)\n",
    "    def is_interception(self):\n",
    "        return ('INTERCEPT' in self.play)\n",
    "    def is_reversed(self):\n",
    "        return ('REVERSED' in self.play)\n",
    "    def is_fumble(self):\n",
    "        return ('FUMBLES' in self.play)\n",
    "    def is_completion(self):\n",
    "        return (('incomplete' not in self.play) and ('pass' in self.play))"
   ]
  },
  {
   "cell_type": "code",
   "execution_count": 6,
   "metadata": {
    "ExecuteTime": {
     "end_time": "2017-08-17T22:55:30.508977Z",
     "start_time": "2017-08-17T15:53:44.869555-07:00"
    },
    "collapsed": false,
    "deletable": true,
    "editable": true
   },
   "outputs": [],
   "source": [
    "plays = []\n",
    "games = []\n",
    "for year in range(2011,2017):\n",
    "    for week in range(1,18):\n",
    "        nflgames = nflgame.games(year,week=week)\n",
    "        for g in nflgames:\n",
    "            teams,score,score_cumulative = set_scores(g)\n",
    "            previous_quarter = 1\n",
    "            score = {teams[0]:0,teams[1]:0}\n",
    "            for play in g.drives.plays():\n",
    "                p = PlayParser(play,teams)\n",
    "                play_score = p.play_points()\n",
    "                if(p.is_null()!=True):\n",
    "                    previous_quarter = p.quarter()\n",
    "                    score=p.get_score(score,score_cumulative,previous_quarter)\n",
    "                    plays.append([p.offense(),p.defense(),year,week,p.down(),p.distance(),p.time_in_half(),\n",
    "                                  p.yards_to_goal(),p.offense_score(),p.defense_score(),p.play_points(),\n",
    "                                  p.resulting_yards(),p.is_penalty(),p.is_completion(),p.is_interception(),\n",
    "                                  p.is_reversed(),p.is_fumble(),p.is_pass()])\n",
    "                if p.offense() in teams:\n",
    "                    score[p.offense()]+=play_score\n",
    "            for team in teams:\n",
    "                games.append([team,teams[1-teams.index(team)],year,week]+weekly(g,team))"
   ]
  },
  {
   "cell_type": "code",
   "execution_count": 142,
   "metadata": {
    "ExecuteTime": {
     "end_time": "2017-08-17T23:59:01.173547Z",
     "start_time": "2017-08-17T16:59:00.638273-07:00"
    },
    "collapsed": false,
    "deletable": true,
    "editable": true
   },
   "outputs": [],
   "source": [
    "df_plays = pd.DataFrame(plays,columns=['Offense','Defense','Year','Week','Down','Distance',\n",
    "                                       'TimeInHalf','YardsToGoal','OffenseScore','DefenseScore',\n",
    "                                       'Points','Result','IsPenalty','IsCompletion',\n",
    "                                       'IsInterception','IsReversed','IsFumble','IsPass'\n",
    "                                      ]\n",
    "                       )"
   ]
  },
  {
   "cell_type": "code",
   "execution_count": 143,
   "metadata": {
    "ExecuteTime": {
     "end_time": "2017-08-17T23:59:01.192365Z",
     "start_time": "2017-08-17T16:59:01.177311-07:00"
    },
    "collapsed": true,
    "deletable": true,
    "editable": true
   },
   "outputs": [],
   "source": [
    "df_games = pd.DataFrame(games,columns=['Offense','Defense','Year','Week','RushAttempt',\n",
    "                                       'RushYards','RushTds','PassAttempt',\n",
    "                                       'PassCompletions','PassYards','PassTds'\n",
    "                                      ]\n",
    "                       )"
   ]
  },
  {
   "cell_type": "code",
   "execution_count": 144,
   "metadata": {
    "ExecuteTime": {
     "end_time": "2017-08-17T23:59:01.585272Z",
     "start_time": "2017-08-17T16:59:01.562995-07:00"
    },
    "collapsed": false,
    "deletable": true,
    "editable": true
   },
   "outputs": [],
   "source": [
    "tempO = df_games.groupby(['Offense','Year']).sum()[['RushAttempt','RushYards',\n",
    "                                                    'RushTds','PassAttempt',\n",
    "                                                    'PassCompletions',\n",
    "                                                    'PassYards','PassTds'\n",
    "                                                    ]].reset_index()\n",
    "tempD = df_games.groupby(['Defense','Year']).sum()[['RushAttempt','RushYards',\n",
    "                                                    'RushTds','PassAttempt',\n",
    "                                                    'PassCompletions',\n",
    "                                                    'PassYards','PassTds'\n",
    "                                                  ]].reset_index()"
   ]
  },
  {
   "cell_type": "code",
   "execution_count": 145,
   "metadata": {
    "ExecuteTime": {
     "end_time": "2017-08-17T23:59:02.024737Z",
     "start_time": "2017-08-17T16:59:02.019041-07:00"
    },
    "collapsed": true
   },
   "outputs": [],
   "source": [
    "names = {'RushAttempt':'RushAttempt_Def','RushYards':'RushYards_Def',\n",
    "         'RushTds':'RushTds_Def','PassAttempt':'PassAttempt_Def',\n",
    "         'PassCompletions':'PassCompletions_Def','PassYards':'PassYards_Def',\n",
    "         'PassTds':'PassTds_Def'}\n",
    "tempD.rename(columns=names,inplace=True)"
   ]
  },
  {
   "cell_type": "code",
   "execution_count": 146,
   "metadata": {
    "ExecuteTime": {
     "end_time": "2017-08-17T23:59:02.481626Z",
     "start_time": "2017-08-17T16:59:02.476083-07:00"
    },
    "collapsed": true
   },
   "outputs": [],
   "source": [
    "tempO['Year'] = tempO['Year']+1\n",
    "tempD['Year'] = tempD['Year']+1"
   ]
  },
  {
   "cell_type": "code",
   "execution_count": 147,
   "metadata": {
    "ExecuteTime": {
     "end_time": "2017-08-17T23:59:03.036974Z",
     "start_time": "2017-08-17T16:59:03.020736-07:00"
    },
    "collapsed": false
   },
   "outputs": [],
   "source": [
    "df_games = pd.merge(df_games,tempO,on=['Offense','Year'],how='left',suffixes={'_x','_Off'})\n",
    "df_games = df_games.drop(['RushAttempt_x','RushYards_x','RushTds_x',\n",
    "                          'PassAttempt_x','PassCompletions_x','PassYards_x',\n",
    "                          'PassTds_x',\n",
    "               ],axis=1)"
   ]
  },
  {
   "cell_type": "code",
   "execution_count": 148,
   "metadata": {
    "ExecuteTime": {
     "end_time": "2017-08-17T23:59:03.543151Z",
     "start_time": "2017-08-17T16:59:03.533063-07:00"
    },
    "collapsed": true
   },
   "outputs": [],
   "source": [
    "df_games = pd.merge(df_games,tempD,on=['Defense','Year'],how='left')"
   ]
  },
  {
   "cell_type": "code",
   "execution_count": 149,
   "metadata": {
    "ExecuteTime": {
     "end_time": "2017-08-17T23:59:04.074861Z",
     "start_time": "2017-08-17T16:59:03.977546-07:00"
    },
    "collapsed": true
   },
   "outputs": [],
   "source": [
    "dataset = pd.merge(df_plays,df_games,on=['Offense','Defense','Year','Week'],how='left')"
   ]
  },
  {
   "cell_type": "code",
   "execution_count": 150,
   "metadata": {
    "ExecuteTime": {
     "end_time": "2017-08-17T23:59:07.389167Z",
     "start_time": "2017-08-17T16:59:04.515288-07:00"
    },
    "collapsed": false
   },
   "outputs": [],
   "source": [
    "dataset.dropna(inplace=True)\n",
    "dataset['PassInt'] = dataset['IsPass']*1\n",
    "dataset['OffYearRatio'] = dataset['PassAttempt_Off']/dataset['RushAttempt_Off']\n",
    "dataset['DefYearRatio'] = dataset['PassAttempt_Def']/dataset['RushAttempt_Def']\n",
    "dataset['ScoreDiff'] = dataset['OffenseScore']-dataset['DefenseScore']\n",
    "dataset = dataset.reset_index(drop=True)\n",
    "dataset.to_csv('AllVariables_temp.csv')"
   ]
  }
 ],
 "metadata": {
  "kernelspec": {
   "display_name": "Python 2",
   "language": "python",
   "name": "python2"
  },
  "language_info": {
   "codemirror_mode": {
    "name": "ipython",
    "version": 2
   },
   "file_extension": ".py",
   "mimetype": "text/x-python",
   "name": "python",
   "nbconvert_exporter": "python",
   "pygments_lexer": "ipython2",
   "version": "2.7.13"
  }
 },
 "nbformat": 4,
 "nbformat_minor": 2
}
